{
 "cells": [
  {
   "cell_type": "code",
   "execution_count": 8,
   "metadata": {},
   "outputs": [
    {
     "name": "stdout",
     "output_type": "stream",
     "text": [
      "The dotenv extension is already loaded. To reload it, use:\n",
      "  %reload_ext dotenv\n"
     ]
    }
   ],
   "source": [
    "import psycopg2 as pg\n",
    "import os\n",
    "import pandas as pd\n",
    "import numpy as np\n",
    "%load_ext dotenv\n",
    "%dotenv"
   ]
  },
  {
   "cell_type": "code",
   "execution_count": 45,
   "metadata": {},
   "outputs": [],
   "source": [
    "tlc_query = \"\"\"\n",
    "SELECT\n",
    "    pickup_datetime, dropoff_datetime, passenger_count, \n",
    "    trip_distance, payment_type_id, fare_amount, \n",
    "    tip_amount, total_amount, trip_duration, avg_speed,\n",
    "    temperature_min, temperature_max, temperature_avg,\n",
    "    percipitation,\n",
    "    date, DATE(pickup_datetime) as pu_date\n",
    "FROM taxi_trip \n",
    "    LEFT JOIN taxi_trip_features ON \n",
    "        taxi_trip.id = taxi_trip_features.taxi_trip_id\n",
    "    LEFT JOIN weather ON\n",
    "        DATE(taxi_trip.pickup_datetime) = weather.date;\n",
    "\"\"\""
   ]
  },
  {
   "cell_type": "code",
   "execution_count": 47,
   "metadata": {},
   "outputs": [],
   "source": [
    "weather_query = \"\"\"\n",
    "SELECT\n",
    "    *\n",
    "FROM weather;\n",
    "\"\"\""
   ]
  },
  {
   "cell_type": "code",
   "execution_count": 48,
   "metadata": {},
   "outputs": [],
   "source": [
    "locations_query = \"\"\"\n",
    "SELECT\n",
    "    *\n",
    "FROM locations;\n",
    "\"\"\""
   ]
  },
  {
   "cell_type": "code",
   "execution_count": 49,
   "metadata": {},
   "outputs": [],
   "source": [
    "file_downloads_query = \"\"\"\n",
    "SELECT\n",
    "    *\n",
    "FROM taxi_trip_file_downloads;\n",
    "\"\"\""
   ]
  },
  {
   "cell_type": "code",
   "execution_count": 50,
   "metadata": {},
   "outputs": [],
   "source": [
    "def get_df_from_query(query):\n",
    "    conn_data={\n",
    "                \"host\": os.getenv(\"POSTGRES_HOST\"),\n",
    "                \"port\": os.getenv(\"POSTGRES_PORT\"),\n",
    "                \"dbname\": os.getenv(\"POSTGRES_NAME\"),\n",
    "                \"user\": os.getenv(\"POSTGRES_USER\"),\n",
    "                \"password\": os.getenv(\"POSTGRES_PASSWORD\"),\n",
    "            }\n",
    "    connection = pg.connect(**conn_data)\n",
    "    df = pd.read_sql(query, connection)\n",
    "    connection.close()\n",
    "    del conn_data\n",
    "    return df"
   ]
  },
  {
   "cell_type": "code",
   "execution_count": 57,
   "metadata": {},
   "outputs": [
    {
     "name": "stdout",
     "output_type": "stream",
     "text": [
      "tlc: (26668, 16), weather: (5087, 12), locations: (265, 4), files: (5, 4)\n"
     ]
    }
   ],
   "source": [
    "tlc = get_df_from_query(tlc_query)\n",
    "weather = get_df_from_query(weather_query)\n",
    "locations = get_df_from_query(locations_query)\n",
    "file_downloads = get_df_from_query(file_downloads_query)\n",
    "print(f\"tlc: {tlc.shape}, weather: {weather.shape}, locations: {locations.shape}, files: {file_downloads.shape}\")"
   ]
  },
  {
   "cell_type": "code",
   "execution_count": 53,
   "metadata": {},
   "outputs": [
    {
     "data": {
      "text/plain": [
       "Index(['id', 'station_id', 'station_name', 'date', 'temperature_min',\n",
       "       'temperature_max', 'temperature_avg', 'percipitation', 'windspeed_avg',\n",
       "       'snow', 'snow_depth', 'sunshine_duration'],\n",
       "      dtype='object')"
      ]
     },
     "execution_count": 53,
     "metadata": {},
     "output_type": "execute_result"
    }
   ],
   "source": [
    "weather.columns"
   ]
  },
  {
   "cell_type": "code",
   "execution_count": 55,
   "metadata": {},
   "outputs": [
    {
     "data": {
      "text/html": [
       "<div>\n",
       "<style scoped>\n",
       "    .dataframe tbody tr th:only-of-type {\n",
       "        vertical-align: middle;\n",
       "    }\n",
       "\n",
       "    .dataframe tbody tr th {\n",
       "        vertical-align: top;\n",
       "    }\n",
       "\n",
       "    .dataframe thead th {\n",
       "        text-align: right;\n",
       "    }\n",
       "</style>\n",
       "<table border=\"1\" class=\"dataframe\">\n",
       "  <thead>\n",
       "    <tr style=\"text-align: right;\">\n",
       "      <th></th>\n",
       "      <th>id</th>\n",
       "      <th>station_id</th>\n",
       "      <th>station_name</th>\n",
       "      <th>date</th>\n",
       "      <th>temperature_min</th>\n",
       "      <th>temperature_max</th>\n",
       "      <th>temperature_avg</th>\n",
       "      <th>percipitation</th>\n",
       "      <th>windspeed_avg</th>\n",
       "      <th>snow</th>\n",
       "      <th>snow_depth</th>\n",
       "      <th>sunshine_duration</th>\n",
       "    </tr>\n",
       "  </thead>\n",
       "  <tbody>\n",
       "    <tr>\n",
       "      <th>0</th>\n",
       "      <td>1</td>\n",
       "      <td>USW00094728</td>\n",
       "      <td>NY CITY CENTRAL PARK, NY US</td>\n",
       "      <td>2009-01-01</td>\n",
       "      <td>-9.4</td>\n",
       "      <td>-3.3</td>\n",
       "      <td>-6.35</td>\n",
       "      <td>0.0</td>\n",
       "      <td>5.0</td>\n",
       "      <td>0.0</td>\n",
       "      <td>0.0</td>\n",
       "      <td>None</td>\n",
       "    </tr>\n",
       "    <tr>\n",
       "      <th>1</th>\n",
       "      <td>2</td>\n",
       "      <td>USW00094728</td>\n",
       "      <td>NY CITY CENTRAL PARK, NY US</td>\n",
       "      <td>2009-01-02</td>\n",
       "      <td>-5.0</td>\n",
       "      <td>1.1</td>\n",
       "      <td>-1.95</td>\n",
       "      <td>0.0</td>\n",
       "      <td>2.8</td>\n",
       "      <td>0.0</td>\n",
       "      <td>0.0</td>\n",
       "      <td>None</td>\n",
       "    </tr>\n",
       "    <tr>\n",
       "      <th>2</th>\n",
       "      <td>3</td>\n",
       "      <td>USW00094728</td>\n",
       "      <td>NY CITY CENTRAL PARK, NY US</td>\n",
       "      <td>2009-01-03</td>\n",
       "      <td>-1.7</td>\n",
       "      <td>3.3</td>\n",
       "      <td>0.80</td>\n",
       "      <td>0.0</td>\n",
       "      <td>4.5</td>\n",
       "      <td>0.0</td>\n",
       "      <td>0.0</td>\n",
       "      <td>None</td>\n",
       "    </tr>\n",
       "    <tr>\n",
       "      <th>3</th>\n",
       "      <td>4</td>\n",
       "      <td>USW00094728</td>\n",
       "      <td>NY CITY CENTRAL PARK, NY US</td>\n",
       "      <td>2009-01-04</td>\n",
       "      <td>-3.9</td>\n",
       "      <td>5.6</td>\n",
       "      <td>0.85</td>\n",
       "      <td>0.0</td>\n",
       "      <td>3.4</td>\n",
       "      <td>0.0</td>\n",
       "      <td>0.0</td>\n",
       "      <td>None</td>\n",
       "    </tr>\n",
       "    <tr>\n",
       "      <th>4</th>\n",
       "      <td>5</td>\n",
       "      <td>USW00094728</td>\n",
       "      <td>NY CITY CENTRAL PARK, NY US</td>\n",
       "      <td>2009-01-05</td>\n",
       "      <td>3.3</td>\n",
       "      <td>6.1</td>\n",
       "      <td>4.70</td>\n",
       "      <td>0.0</td>\n",
       "      <td>3.1</td>\n",
       "      <td>0.0</td>\n",
       "      <td>0.0</td>\n",
       "      <td>None</td>\n",
       "    </tr>\n",
       "  </tbody>\n",
       "</table>\n",
       "</div>"
      ],
      "text/plain": [
       "   id   station_id                 station_name        date  temperature_min  \\\n",
       "0   1  USW00094728  NY CITY CENTRAL PARK, NY US  2009-01-01             -9.4   \n",
       "1   2  USW00094728  NY CITY CENTRAL PARK, NY US  2009-01-02             -5.0   \n",
       "2   3  USW00094728  NY CITY CENTRAL PARK, NY US  2009-01-03             -1.7   \n",
       "3   4  USW00094728  NY CITY CENTRAL PARK, NY US  2009-01-04             -3.9   \n",
       "4   5  USW00094728  NY CITY CENTRAL PARK, NY US  2009-01-05              3.3   \n",
       "\n",
       "   temperature_max  temperature_avg  percipitation  windspeed_avg  snow  \\\n",
       "0             -3.3            -6.35            0.0            5.0   0.0   \n",
       "1              1.1            -1.95            0.0            2.8   0.0   \n",
       "2              3.3             0.80            0.0            4.5   0.0   \n",
       "3              5.6             0.85            0.0            3.4   0.0   \n",
       "4              6.1             4.70            0.0            3.1   0.0   \n",
       "\n",
       "   snow_depth sunshine_duration  \n",
       "0         0.0              None  \n",
       "1         0.0              None  \n",
       "2         0.0              None  \n",
       "3         0.0              None  \n",
       "4         0.0              None  "
      ]
     },
     "execution_count": 55,
     "metadata": {},
     "output_type": "execute_result"
    }
   ],
   "source": [
    "weather.head()"
   ]
  },
  {
   "cell_type": "code",
   "execution_count": null,
   "metadata": {},
   "outputs": [],
   "source": []
  }
 ],
 "metadata": {
  "kernelspec": {
   "display_name": "Python 3",
   "language": "python",
   "name": "python3"
  },
  "language_info": {
   "codemirror_mode": {
    "name": "ipython",
    "version": 3
   },
   "file_extension": ".py",
   "mimetype": "text/x-python",
   "name": "python",
   "nbconvert_exporter": "python",
   "pygments_lexer": "ipython3",
   "version": "3.6.8"
  }
 },
 "nbformat": 4,
 "nbformat_minor": 2
}
